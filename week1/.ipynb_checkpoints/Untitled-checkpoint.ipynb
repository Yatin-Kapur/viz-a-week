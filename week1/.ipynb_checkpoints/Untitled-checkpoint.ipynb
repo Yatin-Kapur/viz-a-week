{
 "cells": [
  {
   "cell_type": "code",
   "execution_count": 116,
   "metadata": {
    "collapsed": false
   },
   "outputs": [],
   "source": [
    "# data from https://ourworldindata.org\n",
    "\n",
    "from IPython.display import display\n",
    "\n",
    "import pandas as pd\n",
    "import numpy as np\n",
    "import matplotlib as plt\n",
    "import seaborn as sns\n",
    "\n",
    "# reading data into life expetancy dataframe\n",
    "life_expectancy = pd.read_csv(\"life-expectancy.csv\")\n",
    "\n",
    "# deleting unneeded columns\n",
    "del life_expectancy['Indicator Name']\n",
    "del life_expectancy['Indicator Code']\n",
    "del life_expectancy['Country Code']\n",
    "del life_expectancy['2016']\n",
    "life_expectancy = life_expectancy.iloc[:, :-1]\n",
    "life_expectancy.index = life_expectancy['Country Name']\n",
    "del life_expectancy['Country Name']\n",
    "\n",
    "# removing countries without entries\n",
    "life_expectancy = life_expectancy.dropna()\n",
    "\n",
    "# unstacking the years, turning it into a dataframe from series and resetting indices to prepare for merge\n",
    "life_expectancy = life_expectancy.stack()\n",
    "life_expectancy = pd.DataFrame(life_expectancy)\n",
    "life_expectancy = life_expectancy.reset_index()\n",
    "life_expectancy = life_expectancy.rename(columns = {'level_1':'Year', 0:'Life Expectancy'})\n",
    "\n",
    "# reading data for spending on healthcare\n",
    "health_spending = pd.read_csv(\"hc-exp.csv\")\n",
    "\n",
    "# deleting unneeded columns\n",
    "del health_spending['Country code']\n",
    "health_spending.index = health_spending['Entity']\n",
    "del health_spending['Entity']\n"
   ]
  },
  {
   "cell_type": "code",
   "execution_count": null,
   "metadata": {
    "collapsed": true
   },
   "outputs": [],
   "source": []
  }
 ],
 "metadata": {
  "kernelspec": {
   "display_name": "Python 3",
   "language": "python",
   "name": "python3"
  },
  "language_info": {
   "codemirror_mode": {
    "name": "ipython",
    "version": 3
   },
   "file_extension": ".py",
   "mimetype": "text/x-python",
   "name": "python",
   "nbconvert_exporter": "python",
   "pygments_lexer": "ipython3",
   "version": "3.6.0"
  }
 },
 "nbformat": 4,
 "nbformat_minor": 2
}
